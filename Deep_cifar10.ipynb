{
  "nbformat": 4,
  "nbformat_minor": 0,
  "metadata": {
    "colab": {
      "name": "Deep_cifar10.ipynb",
      "provenance": [],
      "collapsed_sections": []
    },
    "kernelspec": {
      "name": "python3",
      "display_name": "Python 3"
    },
    "language_info": {
      "name": "python"
    }
  },
  "cells": [
    {
      "cell_type": "code",
      "metadata": {
        "id": "Ll0jvPHqCqW8"
      },
      "source": [
        "import tensorflow as tf\n",
        "from tensorflow.keras import layers"
      ],
      "execution_count": 1,
      "outputs": []
    },
    {
      "cell_type": "code",
      "metadata": {
        "id": "vjkEq1Z1Cwfb"
      },
      "source": [
        "dataset = tf.keras.datasets.cifar10\n"
      ],
      "execution_count": 2,
      "outputs": []
    },
    {
      "cell_type": "code",
      "metadata": {
        "colab": {
          "base_uri": "https://localhost:8080/"
        },
        "id": "or7CGVwPCybJ",
        "outputId": "1e57e796-066f-49ac-b4b4-d541f9097b2c"
      },
      "source": [
        "(X_train, Y_train), (X_test, Y_test) = dataset.load_data()\n"
      ],
      "execution_count": 3,
      "outputs": [
        {
          "output_type": "stream",
          "name": "stdout",
          "text": [
            "Downloading data from https://www.cs.toronto.edu/~kriz/cifar-10-python.tar.gz\n",
            "170500096/170498071 [==============================] - 3s 0us/step\n",
            "170508288/170498071 [==============================] - 3s 0us/step\n"
          ]
        }
      ]
    },
    {
      "cell_type": "code",
      "metadata": {
        "id": "RERhi3E3C0W9"
      },
      "source": [
        "X_train, X_test = X_train/255.0, X_test/255.0\n"
      ],
      "execution_count": 4,
      "outputs": []
    },
    {
      "cell_type": "code",
      "metadata": {
        "colab": {
          "base_uri": "https://localhost:8080/"
        },
        "id": "hoP5TrkdC2Hu",
        "outputId": "9534a7de-242d-4f4b-9af6-201f23654148"
      },
      "source": [
        "X_train.shape\n"
      ],
      "execution_count": 5,
      "outputs": [
        {
          "output_type": "execute_result",
          "data": {
            "text/plain": [
              "(50000, 32, 32, 3)"
            ]
          },
          "metadata": {},
          "execution_count": 5
        }
      ]
    },
    {
      "cell_type": "code",
      "metadata": {
        "id": "V8U0DtOGC4mj"
      },
      "source": [
        "X_train = X_train.reshape(X_train.shape[0],X_train.shape[1], X_train.shape[2],3)\n",
        "X_test = X_test.reshape(X_test.shape[0], X_test.shape[1], X_test.shape[2],3)"
      ],
      "execution_count": 6,
      "outputs": []
    },
    {
      "cell_type": "code",
      "metadata": {
        "id": "IYU8sFsNC7ol"
      },
      "source": [
        "model = tf.keras.models.Sequential([                             \n",
        "        layers.Conv2D(32, (3,3), activation='relu', input_shape=(32, 32, 3)),\n",
        "        layers.MaxPooling2D((2,2)),\n",
        "        layers.Conv2D(64, (3,3), activation='relu'),\n",
        "        layers.MaxPooling2D((2,2)),\n",
        "        layers.Conv2D(128, (3,3), activation='relu'),\n",
        "                      \n",
        "        layers.Flatten(),\n",
        "        layers.Dense(128, activation='relu'),\n",
        "        layers.Dense(64, activation='relu'),\n",
        "        layers.Dense(100, activation='softmax'),\n",
        "])"
      ],
      "execution_count": 7,
      "outputs": []
    },
    {
      "cell_type": "code",
      "metadata": {
        "id": "bKfvh8KGC-Jn"
      },
      "source": [
        "model.compile(optimizer=tf.keras.optimizers.Adam(), loss=tf.keras.losses.sparse_categorical_crossentropy, metrics=['accuracy'])\n"
      ],
      "execution_count": 8,
      "outputs": []
    },
    {
      "cell_type": "code",
      "metadata": {
        "colab": {
          "base_uri": "https://localhost:8080/"
        },
        "id": "i-P-PBjMDBAr",
        "outputId": "6c4e56d8-ad8a-43c7-c211-18259131259f"
      },
      "source": [
        "model.fit(X_train, Y_train, epochs=10)\n"
      ],
      "execution_count": 9,
      "outputs": [
        {
          "output_type": "stream",
          "name": "stdout",
          "text": [
            "Epoch 1/10\n",
            "1563/1563 [==============================] - 77s 49ms/step - loss: 1.6128 - accuracy: 0.4185\n",
            "Epoch 2/10\n",
            "1563/1563 [==============================] - 77s 49ms/step - loss: 1.1565 - accuracy: 0.5922\n",
            "Epoch 3/10\n",
            "1563/1563 [==============================] - 77s 49ms/step - loss: 0.9763 - accuracy: 0.6571\n",
            "Epoch 4/10\n",
            "1563/1563 [==============================] - 77s 49ms/step - loss: 0.8606 - accuracy: 0.6986\n",
            "Epoch 5/10\n",
            "1563/1563 [==============================] - 77s 49ms/step - loss: 0.7711 - accuracy: 0.7305\n",
            "Epoch 6/10\n",
            "1563/1563 [==============================] - 77s 49ms/step - loss: 0.7016 - accuracy: 0.7540\n",
            "Epoch 7/10\n",
            "1563/1563 [==============================] - 77s 49ms/step - loss: 0.6359 - accuracy: 0.7761\n",
            "Epoch 8/10\n",
            "1563/1563 [==============================] - 77s 49ms/step - loss: 0.5774 - accuracy: 0.7971\n",
            "Epoch 9/10\n",
            "1563/1563 [==============================] - 77s 49ms/step - loss: 0.5276 - accuracy: 0.8141\n",
            "Epoch 10/10\n",
            "1563/1563 [==============================] - 77s 49ms/step - loss: 0.4763 - accuracy: 0.8323\n"
          ]
        },
        {
          "output_type": "execute_result",
          "data": {
            "text/plain": [
              "<keras.callbacks.History at 0x7f34b1cfbb90>"
            ]
          },
          "metadata": {},
          "execution_count": 9
        }
      ]
    }
  ]
}